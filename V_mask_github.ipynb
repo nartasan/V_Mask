{
 "cells": [
  {
   "cell_type": "code",
   "execution_count": null,
   "id": "453e7869-134e-40c9-adcb-50b4596b9229",
   "metadata": {},
   "outputs": [],
   "source": [
    "import numpy as np\n",
    "import matplotlib.pyplot as plt\n",
    "import pandas as pd\n",
    "import glob\n",
    "import os\n",
    "import csv\n",
    "from collections import OrderedDict\n",
    "import math\n",
    "import datetime \n",
    "import warnings\n",
    "\n",
    "warnings.filterwarnings(\"ignore\") # use this if you want to get rid of unwanted warnings"
   ]
  },
  {
   "cell_type": "code",
   "execution_count": null,
   "id": "8f810de3-d542-4add-8d18-a2cb8bb28396",
   "metadata": {},
   "outputs": [],
   "source": [
    "df = pd.read_csv('Time_series_dataset.csv')\n"
   ]
  },
  {
   "cell_type": "code",
   "execution_count": null,
   "id": "90fec249-b485-417a-8642-8492f74b26aa",
   "metadata": {},
   "outputs": [],
   "source": [
    "# if you need to work with data with specific interval, I would suggest using rank for simplicity\n",
    "df ['rank_t'] = df.groupby('ID')['t'].rank() \n",
    "\n",
    "# if you need to update your target values with the mean for V-mask use below\n",
    "df ['target_minus_updatedMean']= df['target'] - df['UpdatedMean']\n",
    "df['CUMEAN']=df.groupby('ID')['target_minus_updatedMean'].cumsum(skipna = True)\n",
    "\n",
    "\n",
    "# for v_mask codition Tr and Vr should be defined based on uper/lower arms and the coefficients\n",
    "#please refer to (https://sixsigmastudyguide.com/cumulative-sum-chart-cusum/)\n",
    "df['Tr'] = df_merged ['target_minus_updatedMean'] - (df_merged ['rank_t']*0.5)\n",
    "df['Vr'] = df_merged ['target_minus_updatedMean'] + (df_merged ['rank_t']*0.5)\n",
    "\n",
    "\n",
    "df_Max_Vr= df.set_index('t').groupby(['ID'])['Vr_EL_SV'].rolling('2D').max().reset_index().rename(columns={'Vr':'Max_Vr'})\n",
    "\n",
    "df_Min_Tr= df.set_index('t').groupby(['ID'])['Tr_EL_SV'].rolling('2D').min().reset_index().rename(columns={'Tr':'Min_Tr'})\n",
    "\n",
    "\n",
    "df_merged_Min_Max = pd.merge(df_Max_Vr, df_Min_Tr,  on=['ID','t'])\n",
    "df_merged_Min_Max = pd.merge(df_merged_Min_Max, df,  on=['ID','t'])\n"
   ]
  },
  {
   "cell_type": "code",
   "execution_count": null,
   "id": "f64f6fdc-31ee-4c08-b7c9-fdabc0c8b400",
   "metadata": {},
   "outputs": [],
   "source": [
    "# applying upper/lower V_mask condition\n",
    "df['Masked_CUMEAN'] = df_merged_Min_Max.apply(lambda row: row['CUMEAN'] if ((row['Max_Vr'] - row['Vr_']) <= 4  and (row['Tr'] - row['Min_Tr']) <= (4*row['Updated_std'])) \n",
    "    else \"out of control\", axis=1)\n",
    "# note : row['Updated_std'] can be measured same as updated_mean"
   ]
  }
 ],
 "metadata": {
  "kernelspec": {
   "display_name": "Python 3 (ipykernel)",
   "language": "python",
   "name": "python3"
  },
  "language_info": {
   "codemirror_mode": {
    "name": "ipython",
    "version": 3
   },
   "file_extension": ".py",
   "mimetype": "text/x-python",
   "name": "python",
   "nbconvert_exporter": "python",
   "pygments_lexer": "ipython3",
   "version": "3.9.7"
  }
 },
 "nbformat": 4,
 "nbformat_minor": 5
}
